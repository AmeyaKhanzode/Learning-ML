{
 "cells": [
  {
   "cell_type": "code",
   "execution_count": 2,
   "metadata": {},
   "outputs": [],
   "source": [
    "import numpy as np"
   ]
  },
  {
   "cell_type": "code",
   "execution_count": 10,
   "metadata": {},
   "outputs": [
    {
     "data": {
      "text/plain": [
       "array([[99, 99],\n",
       "       [99, 99]])"
      ]
     },
     "execution_count": 10,
     "metadata": {},
     "output_type": "execute_result"
    }
   ],
   "source": [
    "# different ways to initialise arrays\n",
    "# np.zeros(5) give array([0.,0.,0.,0.,0.])\n",
    "# can do something similar like np.ones(5) --> array([1.,1.,1.,1.,1.])\n",
    "\n",
    "np.zeros((2,3,4)) # 2x3x4\n",
    "\n",
    "# for any other number we can do\n",
    "np.full((2,2), 99)"
   ]
  },
  {
   "cell_type": "code",
   "execution_count": 12,
   "metadata": {},
   "outputs": [
    {
     "data": {
      "text/plain": [
       "array([[10, 10, 10, 10],\n",
       "       [10, 10, 10, 10]])"
      ]
     },
     "execution_count": 12,
     "metadata": {},
     "output_type": "execute_result"
    }
   ],
   "source": [
    "a = np.array([[1,2,3,4], [5,6,7,8]])\n",
    "np.full_like(a, 10)"
   ]
  },
  {
   "cell_type": "code",
   "execution_count": 14,
   "metadata": {},
   "outputs": [
    {
     "data": {
      "text/plain": [
       "array([[[0.9069906 , 0.58664353, 0.38260555],\n",
       "        [0.86944714, 0.12061139, 0.68951366]],\n",
       "\n",
       "       [[0.64943045, 0.38707006, 0.62583306],\n",
       "        [0.40062707, 0.82306272, 0.64508264]],\n",
       "\n",
       "       [[0.32306364, 0.71284433, 0.29206196],\n",
       "        [0.10878181, 0.70348818, 0.26519994]],\n",
       "\n",
       "       [[0.70489484, 0.99590235, 0.0697658 ],\n",
       "        [0.81438901, 0.39317374, 0.45238514]]])"
      ]
     },
     "execution_count": 14,
     "metadata": {},
     "output_type": "execute_result"
    }
   ],
   "source": [
    "np.random.rand(4,2,3)"
   ]
  },
  {
   "cell_type": "code",
   "execution_count": 23,
   "metadata": {},
   "outputs": [
    {
     "name": "stdout",
     "output_type": "stream",
     "text": [
      "[[1. 1. 1. 1. 1.]\n",
      " [1. 0. 0. 0. 1.]\n",
      " [1. 0. 9. 0. 1.]\n",
      " [1. 0. 0. 0. 1.]\n",
      " [1. 1. 1. 1. 1.]]\n"
     ]
    }
   ],
   "source": [
    "output = np.ones((5,5))\n",
    "output[1, 1:-1] = 0\n",
    "output[3, 1:-1] = 0\n",
    "output[2, 1:-1:2] = 0\n",
    "output[2,2] = 9\n",
    "print(output)"
   ]
  },
  {
   "cell_type": "code",
   "execution_count": 31,
   "metadata": {},
   "outputs": [
    {
     "name": "stdout",
     "output_type": "stream",
     "text": [
      "[[1. 1. 1. 1. 1.]\n",
      " [1. 0. 0. 0. 1.]\n",
      " [1. 0. 9. 0. 1.]\n",
      " [1. 0. 0. 0. 1.]\n",
      " [1. 1. 1. 1. 1.]]\n"
     ]
    }
   ],
   "source": [
    "# rather than the above we can do this\n",
    "out = np.ones((5,5))\n",
    "\n",
    "z = np.zeros((3,3))\n",
    "z[1,1] = 9\n",
    "\n",
    "out[1:-1, 1:-1] = z\n",
    "\n",
    "print(out)"
   ]
  },
  {
   "cell_type": "markdown",
   "metadata": {},
   "source": [
    "\n",
    "### copying arrays"
   ]
  },
  {
   "cell_type": "code",
   "execution_count": 42,
   "metadata": {},
   "outputs": [
    {
     "name": "stdout",
     "output_type": "stream",
     "text": [
      "a:  [100   2   3]\n",
      "b:  [100   2   3]\n"
     ]
    }
   ],
   "source": [
    "a = np.array([1,2,3])\n",
    "b = a\n",
    "b[0] = 100\n",
    "print(\"a: \", a)\n",
    "print(\"b: \", b)\n",
    "\n",
    "# creates a deep copy"
   ]
  },
  {
   "cell_type": "code",
   "execution_count": 43,
   "metadata": {},
   "outputs": [
    {
     "name": "stdout",
     "output_type": "stream",
     "text": [
      "a:  [100   2   3]\n",
      "b:  [200   2   3]\n"
     ]
    }
   ],
   "source": [
    "# hence be careful while copying arrays\n",
    "b = a.copy()\n",
    "b[0] = 200\n",
    "print(\"a: \", a)\n",
    "print(\"b: \", b)"
   ]
  }
 ],
 "metadata": {
  "kernelspec": {
   "display_name": "Python 3",
   "language": "python",
   "name": "python3"
  },
  "language_info": {
   "codemirror_mode": {
    "name": "ipython",
    "version": 3
   },
   "file_extension": ".py",
   "mimetype": "text/x-python",
   "name": "python",
   "nbconvert_exporter": "python",
   "pygments_lexer": "ipython3",
   "version": "3.12.6"
  }
 },
 "nbformat": 4,
 "nbformat_minor": 2
}
