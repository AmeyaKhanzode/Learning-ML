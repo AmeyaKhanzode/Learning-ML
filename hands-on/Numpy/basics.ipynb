{
 "cells": [
  {
   "cell_type": "code",
   "execution_count": 1,
   "metadata": {},
   "outputs": [],
   "source": [
    "import numpy as np\n",
    "import sys\n",
    "\n",
    "# multidimensional array manipulation/operation related python module\n",
    "# numpy is much faster than lists coz numpy has a fixed type and uses lesser bytes than lists. it doesnt have to go through type checking\n",
    "# lists are actually not contiguous in the memory\n",
    "# single instruction, multiple data - SIMD\n"
   ]
  },
  {
   "cell_type": "code",
   "execution_count": 2,
   "metadata": {},
   "outputs": [
    {
     "name": "stdout",
     "output_type": "stream",
     "text": [
      "[1 2 3]\n"
     ]
    }
   ],
   "source": [
    "a = np.array([1,2,3], dtype='int16')\n",
    "print(a)"
   ]
  },
  {
   "cell_type": "code",
   "execution_count": 3,
   "metadata": {},
   "outputs": [
    {
     "name": "stdout",
     "output_type": "stream",
     "text": [
      "[[9. 8. 7.]\n",
      " [1. 2. 3.]]\n"
     ]
    }
   ],
   "source": [
    "b = np.array([[9.0, 8.0, 7.0], [1,2,3]])\n",
    "print(b)"
   ]
  },
  {
   "cell_type": "code",
   "execution_count": 4,
   "metadata": {},
   "outputs": [
    {
     "name": "stdout",
     "output_type": "stream",
     "text": [
      "dimension of a:  1\n",
      "dimension of b:  2\n",
      "dtype of b:  float64\n",
      "Type of a should be int16 because we set that => dtype:  int16\n"
     ]
    }
   ],
   "source": [
    "# Get dimension\n",
    "print(\"dimension of a: \", a.ndim)\n",
    "print(\"dimension of b: \", b.ndim)\n",
    "\n",
    "# Shape?    (rows, columns)\n",
    "b.shape\n",
    "\n",
    "# datatype\n",
    "print(\"dtype of b: \", b.dtype)\n",
    "print(\"Type of a should be int16 because we set that => dtype: \", a.dtype)"
   ]
  }
 ],
 "metadata": {
  "kernelspec": {
   "display_name": "Python 3",
   "language": "python",
   "name": "python3"
  },
  "language_info": {
   "codemirror_mode": {
    "name": "ipython",
    "version": 3
   },
   "file_extension": ".py",
   "mimetype": "text/x-python",
   "name": "python",
   "nbconvert_exporter": "python",
   "pygments_lexer": "ipython3",
   "version": "3.12.6"
  }
 },
 "nbformat": 4,
 "nbformat_minor": 2
}
